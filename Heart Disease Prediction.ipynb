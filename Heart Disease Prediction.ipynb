{
 "cells": [
  {
   "cell_type": "markdown",
   "id": "a257ee2f-0126-4700-a023-8a0b3c960782",
   "metadata": {},
   "source": [
    "# 🧠 Project: Heart Disease Prediction using Machine Learning\n",
    "\n",
    "Heart disease is one of the leading causes of death globally. Early detection is critical in improving patient outcomes. This project uses machine learning techniques to predict the presence of heart disease using patient data like age, cholesterol, chest pain type, and other medical indicators.\n",
    "\n",
    "**Key Highlights:**\n",
    "- Used Logistic Regression as the base classification model\n",
    "- Performed data cleaning, outlier detection (IQR method), and EDA\n",
    "- Achieved ~85% accuracy with good precision and recall\n",
    "- Presented results using visual plots and user-friendly prediction labels\n",
    "- Made the model understandable for both technical and non-technical audiences\n",
    "\n",
    "This model can be further enhanced using ensemble algorithms and deployed as a web application for healthcare use cases.\n"
   ]
  },
  {
   "cell_type": "markdown",
   "id": "93369401-29ca-4861-b63d-fcdf9fff2fe5",
   "metadata": {},
   "source": [
    "### Importing Required Libraries\n",
    "We begin by importing the essential Python libraries used for data manipulation, visualization, and machine learning."
   ]
  },
  {
   "cell_type": "code",
   "execution_count": 1,
   "id": "c4fd6745-7aab-41ed-b13d-6ea1e5304086",
   "metadata": {},
   "outputs": [],
   "source": [
    "import numpy as np\n",
    "import pandas as pd\n",
    "import seaborn as sns\n",
    "import matplotlib.pyplot as plt \n",
    "import warnings\n",
    "warnings.filterwarnings('ignore')"
   ]
  },
  {
   "cell_type": "code",
   "execution_count": 2,
   "id": "e89628f6-3bfa-434a-a9cc-2e68067e4cbc",
   "metadata": {},
   "outputs": [],
   "source": [
    "df = pd.read_csv(\"D:/My project/Heart Disease/Heart_disease_statlog.csv\")"
   ]
  },
  {
   "cell_type": "code",
   "execution_count": 3,
   "id": "73b22851-4bb6-42b8-8682-f171d9ec9fac",
   "metadata": {},
   "outputs": [
    {
     "data": {
      "text/html": [
       "<div>\n",
       "<style scoped>\n",
       "    .dataframe tbody tr th:only-of-type {\n",
       "        vertical-align: middle;\n",
       "    }\n",
       "\n",
       "    .dataframe tbody tr th {\n",
       "        vertical-align: top;\n",
       "    }\n",
       "\n",
       "    .dataframe thead th {\n",
       "        text-align: right;\n",
       "    }\n",
       "</style>\n",
       "<table border=\"1\" class=\"dataframe\">\n",
       "  <thead>\n",
       "    <tr style=\"text-align: right;\">\n",
       "      <th></th>\n",
       "      <th>age</th>\n",
       "      <th>sex</th>\n",
       "      <th>cp</th>\n",
       "      <th>trestbps</th>\n",
       "      <th>chol</th>\n",
       "      <th>fbs</th>\n",
       "      <th>restecg</th>\n",
       "      <th>thalach</th>\n",
       "      <th>exang</th>\n",
       "      <th>oldpeak</th>\n",
       "      <th>slope</th>\n",
       "      <th>ca</th>\n",
       "      <th>thal</th>\n",
       "      <th>target</th>\n",
       "    </tr>\n",
       "  </thead>\n",
       "  <tbody>\n",
       "    <tr>\n",
       "      <th>0</th>\n",
       "      <td>70</td>\n",
       "      <td>1</td>\n",
       "      <td>3</td>\n",
       "      <td>130</td>\n",
       "      <td>322</td>\n",
       "      <td>0</td>\n",
       "      <td>2</td>\n",
       "      <td>109</td>\n",
       "      <td>0</td>\n",
       "      <td>2.4</td>\n",
       "      <td>1</td>\n",
       "      <td>3</td>\n",
       "      <td>1</td>\n",
       "      <td>1</td>\n",
       "    </tr>\n",
       "    <tr>\n",
       "      <th>1</th>\n",
       "      <td>67</td>\n",
       "      <td>0</td>\n",
       "      <td>2</td>\n",
       "      <td>115</td>\n",
       "      <td>564</td>\n",
       "      <td>0</td>\n",
       "      <td>2</td>\n",
       "      <td>160</td>\n",
       "      <td>0</td>\n",
       "      <td>1.6</td>\n",
       "      <td>1</td>\n",
       "      <td>0</td>\n",
       "      <td>3</td>\n",
       "      <td>0</td>\n",
       "    </tr>\n",
       "    <tr>\n",
       "      <th>2</th>\n",
       "      <td>57</td>\n",
       "      <td>1</td>\n",
       "      <td>1</td>\n",
       "      <td>124</td>\n",
       "      <td>261</td>\n",
       "      <td>0</td>\n",
       "      <td>0</td>\n",
       "      <td>141</td>\n",
       "      <td>0</td>\n",
       "      <td>0.3</td>\n",
       "      <td>0</td>\n",
       "      <td>0</td>\n",
       "      <td>3</td>\n",
       "      <td>1</td>\n",
       "    </tr>\n",
       "  </tbody>\n",
       "</table>\n",
       "</div>"
      ],
      "text/plain": [
       "   age  sex  cp  trestbps  chol  fbs  restecg  thalach  exang  oldpeak  slope  \\\n",
       "0   70    1   3       130   322    0        2      109      0      2.4      1   \n",
       "1   67    0   2       115   564    0        2      160      0      1.6      1   \n",
       "2   57    1   1       124   261    0        0      141      0      0.3      0   \n",
       "\n",
       "   ca  thal  target  \n",
       "0   3     1       1  \n",
       "1   0     3       0  \n",
       "2   0     3       1  "
      ]
     },
     "execution_count": 3,
     "metadata": {},
     "output_type": "execute_result"
    }
   ],
   "source": [
    "df.head(3)"
   ]
  },
  {
   "cell_type": "markdown",
   "id": "d56eb213-17ba-4683-9bb1-953d2b103066",
   "metadata": {},
   "source": [
    "## EDA (Exploratory Data Analysis) And Preprocessing"
   ]
  },
  {
   "cell_type": "code",
   "execution_count": 4,
   "id": "0ae5303d-0bb8-450f-9518-741b13d8d3ef",
   "metadata": {},
   "outputs": [
    {
     "data": {
      "text/plain": [
       "0"
      ]
     },
     "execution_count": 4,
     "metadata": {},
     "output_type": "execute_result"
    }
   ],
   "source": [
    "df.duplicated().sum()"
   ]
  },
  {
   "cell_type": "code",
   "execution_count": 5,
   "id": "7ba34972-063c-4b9d-be15-2cfc9aa9ba21",
   "metadata": {},
   "outputs": [
    {
     "data": {
      "text/plain": [
       "(270, 14)"
      ]
     },
     "execution_count": 5,
     "metadata": {},
     "output_type": "execute_result"
    }
   ],
   "source": [
    "df.shape"
   ]
  },
  {
   "cell_type": "code",
   "execution_count": 6,
   "id": "248b82d6-33af-4442-b73b-f19b3641279d",
   "metadata": {},
   "outputs": [
    {
     "data": {
      "text/plain": [
       "age         0\n",
       "sex         0\n",
       "cp          0\n",
       "trestbps    0\n",
       "chol        0\n",
       "fbs         0\n",
       "restecg     0\n",
       "thalach     0\n",
       "exang       0\n",
       "oldpeak     0\n",
       "slope       0\n",
       "ca          0\n",
       "thal        0\n",
       "target      0\n",
       "dtype: int64"
      ]
     },
     "execution_count": 6,
     "metadata": {},
     "output_type": "execute_result"
    }
   ],
   "source": [
    "df.isna().sum()"
   ]
  },
  {
   "cell_type": "code",
   "execution_count": 7,
   "id": "e9f1092f-e40e-42e0-8413-8f8efe94e5f4",
   "metadata": {},
   "outputs": [
    {
     "data": {
      "text/html": [
       "<div>\n",
       "<style scoped>\n",
       "    .dataframe tbody tr th:only-of-type {\n",
       "        vertical-align: middle;\n",
       "    }\n",
       "\n",
       "    .dataframe tbody tr th {\n",
       "        vertical-align: top;\n",
       "    }\n",
       "\n",
       "    .dataframe thead th {\n",
       "        text-align: right;\n",
       "    }\n",
       "</style>\n",
       "<table border=\"1\" class=\"dataframe\">\n",
       "  <thead>\n",
       "    <tr style=\"text-align: right;\">\n",
       "      <th></th>\n",
       "      <th>age</th>\n",
       "      <th>sex</th>\n",
       "      <th>cp</th>\n",
       "      <th>trestbps</th>\n",
       "      <th>chol</th>\n",
       "      <th>fbs</th>\n",
       "      <th>restecg</th>\n",
       "      <th>thalach</th>\n",
       "      <th>exang</th>\n",
       "      <th>oldpeak</th>\n",
       "      <th>slope</th>\n",
       "      <th>ca</th>\n",
       "      <th>thal</th>\n",
       "      <th>target</th>\n",
       "    </tr>\n",
       "  </thead>\n",
       "  <tbody>\n",
       "    <tr>\n",
       "      <th>count</th>\n",
       "      <td>270.000000</td>\n",
       "      <td>270.000000</td>\n",
       "      <td>270.000000</td>\n",
       "      <td>270.000000</td>\n",
       "      <td>270.000000</td>\n",
       "      <td>270.000000</td>\n",
       "      <td>270.000000</td>\n",
       "      <td>270.000000</td>\n",
       "      <td>270.000000</td>\n",
       "      <td>270.00000</td>\n",
       "      <td>270.000000</td>\n",
       "      <td>270.000000</td>\n",
       "      <td>270.000000</td>\n",
       "      <td>270.000000</td>\n",
       "    </tr>\n",
       "    <tr>\n",
       "      <th>mean</th>\n",
       "      <td>54.433333</td>\n",
       "      <td>0.677778</td>\n",
       "      <td>2.174074</td>\n",
       "      <td>131.344444</td>\n",
       "      <td>249.659259</td>\n",
       "      <td>0.148148</td>\n",
       "      <td>1.022222</td>\n",
       "      <td>149.677778</td>\n",
       "      <td>0.329630</td>\n",
       "      <td>1.05000</td>\n",
       "      <td>0.585185</td>\n",
       "      <td>0.670370</td>\n",
       "      <td>1.822222</td>\n",
       "      <td>0.444444</td>\n",
       "    </tr>\n",
       "    <tr>\n",
       "      <th>std</th>\n",
       "      <td>9.109067</td>\n",
       "      <td>0.468195</td>\n",
       "      <td>0.950090</td>\n",
       "      <td>17.861608</td>\n",
       "      <td>51.686237</td>\n",
       "      <td>0.355906</td>\n",
       "      <td>0.997891</td>\n",
       "      <td>23.165717</td>\n",
       "      <td>0.470952</td>\n",
       "      <td>1.14521</td>\n",
       "      <td>0.614390</td>\n",
       "      <td>0.943896</td>\n",
       "      <td>0.959140</td>\n",
       "      <td>0.497827</td>\n",
       "    </tr>\n",
       "    <tr>\n",
       "      <th>min</th>\n",
       "      <td>29.000000</td>\n",
       "      <td>0.000000</td>\n",
       "      <td>0.000000</td>\n",
       "      <td>94.000000</td>\n",
       "      <td>126.000000</td>\n",
       "      <td>0.000000</td>\n",
       "      <td>0.000000</td>\n",
       "      <td>71.000000</td>\n",
       "      <td>0.000000</td>\n",
       "      <td>0.00000</td>\n",
       "      <td>0.000000</td>\n",
       "      <td>0.000000</td>\n",
       "      <td>1.000000</td>\n",
       "      <td>0.000000</td>\n",
       "    </tr>\n",
       "    <tr>\n",
       "      <th>25%</th>\n",
       "      <td>48.000000</td>\n",
       "      <td>0.000000</td>\n",
       "      <td>2.000000</td>\n",
       "      <td>120.000000</td>\n",
       "      <td>213.000000</td>\n",
       "      <td>0.000000</td>\n",
       "      <td>0.000000</td>\n",
       "      <td>133.000000</td>\n",
       "      <td>0.000000</td>\n",
       "      <td>0.00000</td>\n",
       "      <td>0.000000</td>\n",
       "      <td>0.000000</td>\n",
       "      <td>1.000000</td>\n",
       "      <td>0.000000</td>\n",
       "    </tr>\n",
       "    <tr>\n",
       "      <th>50%</th>\n",
       "      <td>55.000000</td>\n",
       "      <td>1.000000</td>\n",
       "      <td>2.000000</td>\n",
       "      <td>130.000000</td>\n",
       "      <td>245.000000</td>\n",
       "      <td>0.000000</td>\n",
       "      <td>2.000000</td>\n",
       "      <td>153.500000</td>\n",
       "      <td>0.000000</td>\n",
       "      <td>0.80000</td>\n",
       "      <td>1.000000</td>\n",
       "      <td>0.000000</td>\n",
       "      <td>1.000000</td>\n",
       "      <td>0.000000</td>\n",
       "    </tr>\n",
       "    <tr>\n",
       "      <th>75%</th>\n",
       "      <td>61.000000</td>\n",
       "      <td>1.000000</td>\n",
       "      <td>3.000000</td>\n",
       "      <td>140.000000</td>\n",
       "      <td>280.000000</td>\n",
       "      <td>0.000000</td>\n",
       "      <td>2.000000</td>\n",
       "      <td>166.000000</td>\n",
       "      <td>1.000000</td>\n",
       "      <td>1.60000</td>\n",
       "      <td>1.000000</td>\n",
       "      <td>1.000000</td>\n",
       "      <td>3.000000</td>\n",
       "      <td>1.000000</td>\n",
       "    </tr>\n",
       "    <tr>\n",
       "      <th>max</th>\n",
       "      <td>77.000000</td>\n",
       "      <td>1.000000</td>\n",
       "      <td>3.000000</td>\n",
       "      <td>200.000000</td>\n",
       "      <td>564.000000</td>\n",
       "      <td>1.000000</td>\n",
       "      <td>2.000000</td>\n",
       "      <td>202.000000</td>\n",
       "      <td>1.000000</td>\n",
       "      <td>6.20000</td>\n",
       "      <td>2.000000</td>\n",
       "      <td>3.000000</td>\n",
       "      <td>3.000000</td>\n",
       "      <td>1.000000</td>\n",
       "    </tr>\n",
       "  </tbody>\n",
       "</table>\n",
       "</div>"
      ],
      "text/plain": [
       "              age         sex          cp    trestbps        chol         fbs  \\\n",
       "count  270.000000  270.000000  270.000000  270.000000  270.000000  270.000000   \n",
       "mean    54.433333    0.677778    2.174074  131.344444  249.659259    0.148148   \n",
       "std      9.109067    0.468195    0.950090   17.861608   51.686237    0.355906   \n",
       "min     29.000000    0.000000    0.000000   94.000000  126.000000    0.000000   \n",
       "25%     48.000000    0.000000    2.000000  120.000000  213.000000    0.000000   \n",
       "50%     55.000000    1.000000    2.000000  130.000000  245.000000    0.000000   \n",
       "75%     61.000000    1.000000    3.000000  140.000000  280.000000    0.000000   \n",
       "max     77.000000    1.000000    3.000000  200.000000  564.000000    1.000000   \n",
       "\n",
       "          restecg     thalach       exang    oldpeak       slope          ca  \\\n",
       "count  270.000000  270.000000  270.000000  270.00000  270.000000  270.000000   \n",
       "mean     1.022222  149.677778    0.329630    1.05000    0.585185    0.670370   \n",
       "std      0.997891   23.165717    0.470952    1.14521    0.614390    0.943896   \n",
       "min      0.000000   71.000000    0.000000    0.00000    0.000000    0.000000   \n",
       "25%      0.000000  133.000000    0.000000    0.00000    0.000000    0.000000   \n",
       "50%      2.000000  153.500000    0.000000    0.80000    1.000000    0.000000   \n",
       "75%      2.000000  166.000000    1.000000    1.60000    1.000000    1.000000   \n",
       "max      2.000000  202.000000    1.000000    6.20000    2.000000    3.000000   \n",
       "\n",
       "             thal      target  \n",
       "count  270.000000  270.000000  \n",
       "mean     1.822222    0.444444  \n",
       "std      0.959140    0.497827  \n",
       "min      1.000000    0.000000  \n",
       "25%      1.000000    0.000000  \n",
       "50%      1.000000    0.000000  \n",
       "75%      3.000000    1.000000  \n",
       "max      3.000000    1.000000  "
      ]
     },
     "execution_count": 7,
     "metadata": {},
     "output_type": "execute_result"
    }
   ],
   "source": [
    "df.describe()"
   ]
  },
  {
   "cell_type": "markdown",
   "id": "7cf102a6-4e6a-4084-b957-95217a71af15",
   "metadata": {},
   "source": [
    "#### 📊 Data Visualization"
   ]
  },
  {
   "cell_type": "markdown",
   "id": "9ee8e52f-1781-4ddf-8f2d-bfc7d8d4664e",
   "metadata": {},
   "source": [
    "# Heart Disease Count Plot"
   ]
  },
  {
   "cell_type": "code",
   "execution_count": 8,
   "id": "dac026b4-39f1-43ae-be0d-f279add5081c",
   "metadata": {},
   "outputs": [
    {
     "data": {
      "image/png": "[encoded data removed]",
      "text/plain": [
       "<Figure size 600x400 with 1 Axes>"
      ]
     },
     "metadata": {},
     "output_type": "display_data"
    }
   ],
   "source": [
    "plt.figure(figsize=(6, 4))\n",
    "sns.countplot(x='target', data=df, palette='Set2')\n",
    "plt.title('Heart Disease Distribution (0 = No, 1 = Yes)')\n",
    "plt.xlabel('Heart Disease')\n",
    "plt.ylabel('Count')\n",
    "plt.tight_layout()\n",
    "plt.show()"
   ]
  },
  {
   "cell_type": "markdown",
   "id": "1352c28d-9bab-417b-88d8-2bc3cf528353",
   "metadata": {},
   "source": [
    "## Age Distribution by Heart Disease"
   ]
  },
  {
   "cell_type": "code",
   "execution_count": 9,
   "id": "340da135-34eb-4173-9e4d-61948c6b51f3",
   "metadata": {},
   "outputs": [
    {
     "data": {
      "image/png": "[encoded data removed]",
      "text/plain": [
       "<Figure size 600x400 with 1 Axes>"
      ]
     },
     "metadata": {},
     "output_type": "display_data"
    }
   ],
   "source": [
    "plt.figure(figsize=(6, 4))\n",
    "sns.histplot(data=df, x='age', hue='target', bins=20, kde=True, palette='Set1')\n",
    "plt.title('Age Distribution by Heart Disease Status')\n",
    "plt.xlabel('Age')\n",
    "plt.ylabel('Count')\n",
    "plt.tight_layout()\n",
    "plt.show()"
   ]
  },
  {
   "cell_type": "markdown",
   "id": "4700105d-e437-493d-b4eb-7067d1291857",
   "metadata": {},
   "source": [
    "## Chest Pain "
   ]
  },
  {
   "cell_type": "code",
   "execution_count": 10,
   "id": "ddf973cb-a3e1-4168-836d-52ec3b365e0e",
   "metadata": {},
   "outputs": [
    {
     "data": {
      "image/png": "[encoded data removed]",
      "text/plain": [
       "<Figure size 600x400 with 1 Axes>"
      ]
     },
     "metadata": {},
     "output_type": "display_data"
    }
   ],
   "source": [
    "plt.figure(figsize=(6, 4))\n",
    "sns.countplot(x='cp', hue='target', data=df, palette='pastel')\n",
    "plt.title('Chest Pain Type vs Heart Disesase')\n",
    "plt.xlabel('Chest Pain Type (cp)')\n",
    "plt.ylabel('Count')\n",
    "plt.legend(title='Heart Disease', labels=['No', 'Yes'])\n",
    "plt.tight_layout()\n",
    "plt.show()"
   ]
  },
  {
   "cell_type": "markdown",
   "id": "8718c4f5-6673-42cf-bbbc-3b8e71899260",
   "metadata": {},
   "source": [
    "##  Max Heart Rate (thalach) vs Heart Disease"
   ]
  },
  {
   "cell_type": "code",
   "execution_count": 11,
   "id": "fd6d1b37-e019-4d53-808a-00cb9a581a4d",
   "metadata": {},
   "outputs": [
    {
     "data": {
      "image/png": "[encoded data removed]",
      "text/plain": [
       "<Figure size 600x400 with 1 Axes>"
      ]
     },
     "metadata": {},
     "output_type": "display_data"
    }
   ],
   "source": [
    "plt.figure(figsize=(6, 4))\n",
    "sns.boxplot(x='target', y='thalach', data=df, palette='Set3')\n",
    "plt.title('Max Heart Rate vs Heart Disease')\n",
    "plt.xlabel('Heart Disease (0=No, 1=Yes)')\n",
    "plt.ylabel('Max Heart Rate (thalach)')\n",
    "plt.tight_layout()\n",
    "plt.show()"
   ]
  },
  {
   "cell_type": "code",
   "execution_count": 12,
   "id": "5e53fa52-625c-4101-a819-901267b10429",
   "metadata": {},
   "outputs": [
    {
     "data": {
      "text/html": [
       "<div>\n",
       "<style scoped>\n",
       "    .dataframe tbody tr th:only-of-type {\n",
       "        vertical-align: middle;\n",
       "    }\n",
       "\n",
       "    .dataframe tbody tr th {\n",
       "        vertical-align: top;\n",
       "    }\n",
       "\n",
       "    .dataframe thead th {\n",
       "        text-align: right;\n",
       "    }\n",
       "</style>\n",
       "<table border=\"1\" class=\"dataframe\">\n",
       "  <thead>\n",
       "    <tr style=\"text-align: right;\">\n",
       "      <th></th>\n",
       "      <th>age</th>\n",
       "      <th>sex</th>\n",
       "      <th>cp</th>\n",
       "      <th>trestbps</th>\n",
       "      <th>chol</th>\n",
       "      <th>fbs</th>\n",
       "      <th>restecg</th>\n",
       "      <th>thalach</th>\n",
       "      <th>exang</th>\n",
       "      <th>oldpeak</th>\n",
       "      <th>slope</th>\n",
       "      <th>ca</th>\n",
       "      <th>thal</th>\n",
       "      <th>target</th>\n",
       "    </tr>\n",
       "  </thead>\n",
       "  <tbody>\n",
       "    <tr>\n",
       "      <th>0</th>\n",
       "      <td>70</td>\n",
       "      <td>1</td>\n",
       "      <td>3</td>\n",
       "      <td>130</td>\n",
       "      <td>322</td>\n",
       "      <td>0</td>\n",
       "      <td>2</td>\n",
       "      <td>109</td>\n",
       "      <td>0</td>\n",
       "      <td>2.4</td>\n",
       "      <td>1</td>\n",
       "      <td>3</td>\n",
       "      <td>1</td>\n",
       "      <td>1</td>\n",
       "    </tr>\n",
       "    <tr>\n",
       "      <th>1</th>\n",
       "      <td>67</td>\n",
       "      <td>0</td>\n",
       "      <td>2</td>\n",
       "      <td>115</td>\n",
       "      <td>564</td>\n",
       "      <td>0</td>\n",
       "      <td>2</td>\n",
       "      <td>160</td>\n",
       "      <td>0</td>\n",
       "      <td>1.6</td>\n",
       "      <td>1</td>\n",
       "      <td>0</td>\n",
       "      <td>3</td>\n",
       "      <td>0</td>\n",
       "    </tr>\n",
       "    <tr>\n",
       "      <th>2</th>\n",
       "      <td>57</td>\n",
       "      <td>1</td>\n",
       "      <td>1</td>\n",
       "      <td>124</td>\n",
       "      <td>261</td>\n",
       "      <td>0</td>\n",
       "      <td>0</td>\n",
       "      <td>141</td>\n",
       "      <td>0</td>\n",
       "      <td>0.3</td>\n",
       "      <td>0</td>\n",
       "      <td>0</td>\n",
       "      <td>3</td>\n",
       "      <td>1</td>\n",
       "    </tr>\n",
       "    <tr>\n",
       "      <th>3</th>\n",
       "      <td>64</td>\n",
       "      <td>1</td>\n",
       "      <td>3</td>\n",
       "      <td>128</td>\n",
       "      <td>263</td>\n",
       "      <td>0</td>\n",
       "      <td>0</td>\n",
       "      <td>105</td>\n",
       "      <td>1</td>\n",
       "      <td>0.2</td>\n",
       "      <td>1</td>\n",
       "      <td>1</td>\n",
       "      <td>3</td>\n",
       "      <td>0</td>\n",
       "    </tr>\n",
       "    <tr>\n",
       "      <th>4</th>\n",
       "      <td>74</td>\n",
       "      <td>0</td>\n",
       "      <td>1</td>\n",
       "      <td>120</td>\n",
       "      <td>269</td>\n",
       "      <td>0</td>\n",
       "      <td>2</td>\n",
       "      <td>121</td>\n",
       "      <td>1</td>\n",
       "      <td>0.2</td>\n",
       "      <td>0</td>\n",
       "      <td>1</td>\n",
       "      <td>1</td>\n",
       "      <td>0</td>\n",
       "    </tr>\n",
       "  </tbody>\n",
       "</table>\n",
       "</div>"
      ],
      "text/plain": [
       "   age  sex  cp  trestbps  chol  fbs  restecg  thalach  exang  oldpeak  slope  \\\n",
       "0   70    1   3       130   322    0        2      109      0      2.4      1   \n",
       "1   67    0   2       115   564    0        2      160      0      1.6      1   \n",
       "2   57    1   1       124   261    0        0      141      0      0.3      0   \n",
       "3   64    1   3       128   263    0        0      105      1      0.2      1   \n",
       "4   74    0   1       120   269    0        2      121      1      0.2      0   \n",
       "\n",
       "   ca  thal  target  \n",
       "0   3     1       1  \n",
       "1   0     3       0  \n",
       "2   0     3       1  \n",
       "3   1     3       0  \n",
       "4   1     1       0  "
      ]
     },
     "execution_count": 12,
     "metadata": {},
     "output_type": "execute_result"
    }
   ],
   "source": [
    "df.head()"
   ]
  },
  {
   "cell_type": "markdown",
   "id": "c531b5eb-4ce0-4514-95c1-e5261de48a5a",
   "metadata": {},
   "source": [
    "## Checking Outlier"
   ]
  },
  {
   "cell_type": "code",
   "execution_count": 13,
   "id": "3f319c66-744c-4503-8e56-e5aadc0e9a5b",
   "metadata": {},
   "outputs": [
    {
     "data": {
      "image/png": "[encoded data removed]",
      "text/plain": [
       "<Figure size 600x400 with 1 Axes>"
      ]
     },
     "metadata": {},
     "output_type": "display_data"
    }
   ],
   "source": [
    "plt.figure(figsize=(6, 4))\n",
    "sns.boxplot(x='target', y='thalach', data=df, palette='Set3')\n",
    "plt.title('Max Heart Rate vs Heart Disease')\n",
    "plt.xlabel('Heart Disease (0=No, 1=Yes)')\n",
    "plt.ylabel('Max Heart Rate (thalach)')\n",
    "plt.tight_layout()\n",
    "plt.show()"
   ]
  },
  {
   "cell_type": "markdown",
   "id": "625d1649-683c-4a19-969c-329824428184",
   "metadata": {},
   "source": [
    "## Remove Outlier"
   ]
  },
  {
   "cell_type": "code",
   "execution_count": 14,
   "id": "5d6b8e75-a24f-4dba-b9f6-6169f2d3c66f",
   "metadata": {},
   "outputs": [],
   "source": [
    "def remove_outliers_iqr(df, columns):\n",
    "    for col in columns:\n",
    "        Q1 = df[col].quantile(0.25)\n",
    "        Q3 = df[col].quantile(0.75)\n",
    "        IQR = Q3 - Q1\n",
    "        lower = Q1 - 1.5 * IQR\n",
    "        upper = Q3 + 1.5 * IQR\n",
    "        df = df[(df[col] >= lower) & (df[col] <= upper)]\n",
    "    return df\n",
    "\n",
    "outlier_cols = ['age','sex','cp','fbs','restecg','exang','slope','ca','thal','trestbps', 'chol', 'thalach', 'oldpeak']\n",
    "df_cleaned = remove_outliers_iqr(df, outlier_cols)"
   ]
  },
  {
   "cell_type": "code",
   "execution_count": 15,
   "id": "7dedf76c-b0ad-4292-9dda-eb319fe416ae",
   "metadata": {},
   "outputs": [
    {
     "data": {
      "image/png": "[encoded data removed]",
      "text/plain": [
       "<Figure size 600x400 with 1 Axes>"
      ]
     },
     "metadata": {},
     "output_type": "display_data"
    }
   ],
   "source": [
    "plt.figure(figsize=(6, 4))\n",
    "sns.boxplot(x='target', y='thalach', data=df_cleaned, palette='Set3')\n",
    "plt.title('Max Heart Rate vs Heart Disease')\n",
    "plt.xlabel('Heart Disease (0=No, 1=Yes)')\n",
    "plt.ylabel('Max Heart Rate (thalach)')\n",
    "plt.tight_layout()\n",
    "plt.show()"
   ]
  },
  {
   "cell_type": "markdown",
   "id": "5f7d9692-bc7f-470f-aede-ae866acad54d",
   "metadata": {},
   "source": [
    "##  Heart disease by sex"
   ]
  },
  {
   "cell_type": "code",
   "execution_count": 16,
   "id": "d3fbf63b-8171-4d14-8637-0e3cd3f3442d",
   "metadata": {},
   "outputs": [],
   "source": [
    "palette_qual = \"bright\""
   ]
  },
  {
   "cell_type": "code",
   "execution_count": 17,
   "id": "f11b9cd8-b978-4d17-b44a-47c8f856a3ce",
   "metadata": {},
   "outputs": [
    {
     "data": {
      "image/png": "[encoded data removed]",
      "text/plain": [
       "<Figure size 600x400 with 1 Axes>"
      ]
     },
     "metadata": {},
     "output_type": "display_data"
    }
   ],
   "source": [
    "plt.figure(figsize=(6, 4))\n",
    "sns.countplot(x=\"sex\", hue=\"target\", data=df_cleaned, palette=palette_qual)\n",
    "palette_qual = \"bright\"\n",
    "plt.title(\"Heart Disease Presence by Sex\")\n",
    "plt.xlabel(\"Sex (0 = Female, 1 = Male)\")\n",
    "plt.ylabel(\"Count\")\n",
    "plt.legend(title=\"Heart Disease\")\n",
    "plt.tight_layout()\n",
    "plt.show()"
   ]
  },
  {
   "cell_type": "markdown",
   "id": "988eaf5c-c3cf-4bf5-8d16-12be4e30b6ec",
   "metadata": {},
   "source": [
    "## Model Building And Splitting the Data\n",
    "The dataset is split into training and testing sets to evaluate the model’s performance.\n"
   ]
  },
  {
   "cell_type": "code",
   "execution_count": 18,
   "id": "c6596bc4-4eb3-44e9-93a8-54af2d1d6b3b",
   "metadata": {},
   "outputs": [],
   "source": [
    "from sklearn.model_selection import train_test_split\n",
    "from sklearn.linear_model import LogisticRegression\n",
    "from sklearn.preprocessing import StandardScaler\n",
    "from sklearn.metrics import mean_absolute_error, mean_squared_error, r2_score"
   ]
  },
  {
   "cell_type": "code",
   "execution_count": 19,
   "id": "1f3076e8-779f-4ae2-a92c-7953332374bb",
   "metadata": {},
   "outputs": [],
   "source": [
    "X = df_cleaned.drop(\"target\", axis=1)\n",
    "y = df_cleaned[\"target\"]"
   ]
  },
  {
   "cell_type": "code",
   "execution_count": 20,
   "id": "8557034d-67af-4ce7-b58a-b8ea77d65cba",
   "metadata": {},
   "outputs": [],
   "source": [
    "X_train, X_test, y_train, y_test = train_test_split(X, y, test_size=0.2, random_state=42,shuffle=True)"
   ]
  },
  {
   "cell_type": "code",
   "execution_count": 21,
   "id": "dbc68a26-f587-449d-96cd-e027eba4f6a7",
   "metadata": {},
   "outputs": [],
   "source": [
    "scaler = StandardScaler()"
   ]
  },
  {
   "cell_type": "code",
   "execution_count": 22,
   "id": "6a7e5115-c04d-4c55-8201-f9888cabbc7e",
   "metadata": {},
   "outputs": [],
   "source": [
    "X_train_scaled = scaler.fit_transform(X_train)\n",
    "X_test_scaled = scaler.transform(X_test)"
   ]
  },
  {
   "cell_type": "code",
   "execution_count": 23,
   "id": "e8efdf40-5369-4c65-8f2d-ac5590fa45ca",
   "metadata": {},
   "outputs": [],
   "source": [
    "X_train= pd.DataFrame(X_train_scaled,columns=X.columns)\n",
    "X_test= pd.DataFrame(X_test_scaled,columns=X.columns)"
   ]
  },
  {
   "cell_type": "markdown",
   "id": "ca52530d-e3a7-413a-8655-043947424043",
   "metadata": {},
   "source": [
    "##  Model Accuracy\n",
    "We evaluate the model’s accuracy on both training and test datasets.\n",
    "Evaluation"
   ]
  },
  {
   "cell_type": "code",
   "execution_count": 24,
   "id": "79677163-70f7-4e7c-8375-cb5a4003b7de",
   "metadata": {},
   "outputs": [],
   "source": [
    "lr= LogisticRegression()"
   ]
  },
  {
   "cell_type": "code",
   "execution_count": 25,
   "id": "165c02e9-253b-41f3-a663-1b23089c759e",
   "metadata": {},
   "outputs": [
    {
     "data": {
      "text/html": [
       "<style>#sk-container-id-1 {\n",
       "  /* Definition of color scheme common for light and dark mode */\n",
       "  --sklearn-color-text: black;\n",
       "  --sklearn-color-line: gray;\n",
       "  /* Definition of color scheme for unfitted estimators */\n",
       "  --sklearn-color-unfitted-level-0: #fff5e6;\n",
       "  --sklearn-color-unfitted-level-1: #f6e4d2;\n",
       "  --sklearn-color-unfitted-level-2: #ffe0b3;\n",
       "  --sklearn-color-unfitted-level-3: chocolate;\n",
       "  /* Definition of color scheme for fitted estimators */\n",
       "  --sklearn-color-fitted-level-0: #f0f8ff;\n",
       "  --sklearn-color-fitted-level-1: #d4ebff;\n",
       "  --sklearn-color-fitted-level-2: #b3dbfd;\n",
       "  --sklearn-color-fitted-level-3: cornflowerblue;\n",
       "\n",
       "  /* Specific color for light theme */\n",
       "  --sklearn-color-text-on-default-background: var(--sg-text-color, var(--theme-code-foreground, var(--jp-content-font-color1, black)));\n",
       "  --sklearn-color-background: var(--sg-background-color, var(--theme-background, var(--jp-layout-color0, white)));\n",
       "  --sklearn-color-border-box: var(--sg-text-color, var(--theme-code-foreground, var(--jp-content-font-color1, black)));\n",
       "  --sklearn-color-icon: #696969;\n",
       "\n",
       "  @media (prefers-color-scheme: dark) {\n",
       "    /* Redefinition of color scheme for dark theme */\n",
       "    --sklearn-color-text-on-default-background: var(--sg-text-color, var(--theme-code-foreground, var(--jp-content-font-color1, white)));\n",
       "    --sklearn-color-background: var(--sg-background-color, var(--theme-background, var(--jp-layout-color0, #111)));\n",
       "    --sklearn-color-border-box: var(--sg-text-color, var(--theme-code-foreground, var(--jp-content-font-color1, white)));\n",
       "    --sklearn-color-icon: #878787;\n",
       "  }\n",
       "}\n",
       "\n",
       "#sk-container-id-1 {\n",
       "  color: var(--sklearn-color-text);\n",
       "}\n",
       "\n",
       "#sk-container-id-1 pre {\n",
       "  padding: 0;\n",
       "}\n",
       "\n",
       "#sk-container-id-1 input.sk-hidden--visually {\n",
       "  border: 0;\n",
       "  clip: rect(1px 1px 1px 1px);\n",
       "  clip: rect(1px, 1px, 1px, 1px);\n",
       "  height: 1px;\n",
       "  margin: -1px;\n",
       "  overflow: hidden;\n",
       "  padding: 0;\n",
       "  position: absolute;\n",
       "  width: 1px;\n",
       "}\n",
       "\n",
       "#sk-container-id-1 div.sk-dashed-wrapped {\n",
       "  border: 1px dashed var(--sklearn-color-line);\n",
       "  margin: 0 0.4em 0.5em 0.4em;\n",
       "  box-sizing: border-box;\n",
       "  padding-bottom: 0.4em;\n",
       "  background-color: var(--sklearn-color-background);\n",
       "}\n",
       "\n",
       "#sk-container-id-1 div.sk-container {\n",
       "  /* jupyter's `normalize.less` sets `[hidden] { display: none; }`\n",
       "     but bootstrap.min.css set `[hidden] { display: none !important; }`\n",
       "     so we also need the `!important` here to be able to override the\n",
       "     default hidden behavior on the sphinx rendered scikit-learn.org.\n",
       "     See: https://github.com/scikit-learn/scikit-learn/issues/21755 */\n",
       "  display: inline-block !important;\n",
       "  position: relative;\n",
       "}\n",
       "\n",
       "#sk-container-id-1 div.sk-text-repr-fallback {\n",
       "  display: none;\n",
       "}\n",
       "\n",
       "div.sk-parallel-item,\n",
       "div.sk-serial,\n",
       "div.sk-item {\n",
       "  /* draw centered vertical line to link estimators */\n",
       "  background-image: linear-gradient(var(--sklearn-color-text-on-default-background), var(--sklearn-color-text-on-default-background));\n",
       "  background-size: 2px 100%;\n",
       "  background-repeat: no-repeat;\n",
       "  background-position: center center;\n",
       "}\n",
       "\n",
       "/* Parallel-specific style estimator block */\n",
       "\n",
       "#sk-container-id-1 div.sk-parallel-item::after {\n",
       "  content: \"\";\n",
       "  width: 100%;\n",
       "  border-bottom: 2px solid var(--sklearn-color-text-on-default-background);\n",
       "  flex-grow: 1;\n",
       "}\n",
       "\n",
       "#sk-container-id-1 div.sk-parallel {\n",
       "  display: flex;\n",
       "  align-items: stretch;\n",
       "  justify-content: center;\n",
       "  background-color: var(--sklearn-color-background);\n",
       "  position: relative;\n",
       "}\n",
       "\n",
       "#sk-container-id-1 div.sk-parallel-item {\n",
       "  display: flex;\n",
       "  flex-direction: column;\n",
       "}\n",
       "\n",
       "#sk-container-id-1 div.sk-parallel-item:first-child::after {\n",
       "  align-self: flex-end;\n",
       "  width: 50%;\n",
       "}\n",
       "\n",
       "#sk-container-id-1 div.sk-parallel-item:last-child::after {\n",
       "  align-self: flex-start;\n",
       "  width: 50%;\n",
       "}\n",
       "\n",
       "#sk-container-id-1 div.sk-parallel-item:only-child::after {\n",
       "  width: 0;\n",
       "}\n",
       "\n",
       "/* Serial-specific style estimator block */\n",
       "\n",
       "#sk-container-id-1 div.sk-serial {\n",
       "  display: flex;\n",
       "  flex-direction: column;\n",
       "  align-items: center;\n",
       "  background-color: var(--sklearn-color-background);\n",
       "  padding-right: 1em;\n",
       "  padding-left: 1em;\n",
       "}\n",
       "\n",
       "\n",
       "/* Toggleable style: style used for estimator/Pipeline/ColumnTransformer box that is\n",
       "clickable and can be expanded/collapsed.\n",
       "- Pipeline and ColumnTransformer use this feature and define the default style\n",
       "- Estimators will overwrite some part of the style using the `sk-estimator` class\n",
       "*/\n",
       "\n",
       "/* Pipeline and ColumnTransformer style (default) */\n",
       "\n",
       "#sk-container-id-1 div.sk-toggleable {\n",
       "  /* Default theme specific background. It is overwritten whether we have a\n",
       "  specific estimator or a Pipeline/ColumnTransformer */\n",
       "  background-color: var(--sklearn-color-background);\n",
       "}\n",
       "\n",
       "/* Toggleable label */\n",
       "#sk-container-id-1 label.sk-toggleable__label {\n",
       "  cursor: pointer;\n",
       "  display: block;\n",
       "  width: 100%;\n",
       "  margin-bottom: 0;\n",
       "  padding: 0.5em;\n",
       "  box-sizing: border-box;\n",
       "  text-align: center;\n",
       "}\n",
       "\n",
       "#sk-container-id-1 label.sk-toggleable__label-arrow:before {\n",
       "  /* Arrow on the left of the label */\n",
       "  content: \"▸\";\n",
       "  float: left;\n",
       "  margin-right: 0.25em;\n",
       "  color: var(--sklearn-color-icon);\n",
       "}\n",
       "\n",
       "#sk-container-id-1 label.sk-toggleable__label-arrow:hover:before {\n",
       "  color: var(--sklearn-color-text);\n",
       "}\n",
       "\n",
       "/* Toggleable content - dropdown */\n",
       "\n",
       "#sk-container-id-1 div.sk-toggleable__content {\n",
       "  max-height: 0;\n",
       "  max-width: 0;\n",
       "  overflow: hidden;\n",
       "  text-align: left;\n",
       "  /* unfitted */\n",
       "  background-color: var(--sklearn-color-unfitted-level-0);\n",
       "}\n",
       "\n",
       "#sk-container-id-1 div.sk-toggleable__content.fitted {\n",
       "  /* fitted */\n",
       "  background-color: var(--sklearn-color-fitted-level-0);\n",
       "}\n",
       "\n",
       "#sk-container-id-1 div.sk-toggleable__content pre {\n",
       "  margin: 0.2em;\n",
       "  border-radius: 0.25em;\n",
       "  color: var(--sklearn-color-text);\n",
       "  /* unfitted */\n",
       "  background-color: var(--sklearn-color-unfitted-level-0);\n",
       "}\n",
       "\n",
       "#sk-container-id-1 div.sk-toggleable__content.fitted pre {\n",
       "  /* unfitted */\n",
       "  background-color: var(--sklearn-color-fitted-level-0);\n",
       "}\n",
       "\n",
       "#sk-container-id-1 input.sk-toggleable__control:checked~div.sk-toggleable__content {\n",
       "  /* Expand drop-down */\n",
       "  max-height: 200px;\n",
       "  max-width: 100%;\n",
       "  overflow: auto;\n",
       "}\n",
       "\n",
       "#sk-container-id-1 input.sk-toggleable__control:checked~label.sk-toggleable__label-arrow:before {\n",
       "  content: \"▾\";\n",
       "}\n",
       "\n",
       "/* Pipeline/ColumnTransformer-specific style */\n",
       "\n",
       "#sk-container-id-1 div.sk-label input.sk-toggleable__control:checked~label.sk-toggleable__label {\n",
       "  color: var(--sklearn-color-text);\n",
       "  background-color: var(--sklearn-color-unfitted-level-2);\n",
       "}\n",
       "\n",
       "#sk-container-id-1 div.sk-label.fitted input.sk-toggleable__control:checked~label.sk-toggleable__label {\n",
       "  background-color: var(--sklearn-color-fitted-level-2);\n",
       "}\n",
       "\n",
       "/* Estimator-specific style */\n",
       "\n",
       "/* Colorize estimator box */\n",
       "#sk-container-id-1 div.sk-estimator input.sk-toggleable__control:checked~label.sk-toggleable__label {\n",
       "  /* unfitted */\n",
       "  background-color: var(--sklearn-color-unfitted-level-2);\n",
       "}\n",
       "\n",
       "#sk-container-id-1 div.sk-estimator.fitted input.sk-toggleable__control:checked~label.sk-toggleable__label {\n",
       "  /* fitted */\n",
       "  background-color: var(--sklearn-color-fitted-level-2);\n",
       "}\n",
       "\n",
       "#sk-container-id-1 div.sk-label label.sk-toggleable__label,\n",
       "#sk-container-id-1 div.sk-label label {\n",
       "  /* The background is the default theme color */\n",
       "  color: var(--sklearn-color-text-on-default-background);\n",
       "}\n",
       "\n",
       "/* On hover, darken the color of the background */\n",
       "#sk-container-id-1 div.sk-label:hover label.sk-toggleable__label {\n",
       "  color: var(--sklearn-color-text);\n",
       "  background-color: var(--sklearn-color-unfitted-level-2);\n",
       "}\n",
       "\n",
       "/* Label box, darken color on hover, fitted */\n",
       "#sk-container-id-1 div.sk-label.fitted:hover label.sk-toggleable__label.fitted {\n",
       "  color: var(--sklearn-color-text);\n",
       "  background-color: var(--sklearn-color-fitted-level-2);\n",
       "}\n",
       "\n",
       "/* Estimator label */\n",
       "\n",
       "#sk-container-id-1 div.sk-label label {\n",
       "  font-family: monospace;\n",
       "  font-weight: bold;\n",
       "  display: inline-block;\n",
       "  line-height: 1.2em;\n",
       "}\n",
       "\n",
       "#sk-container-id-1 div.sk-label-container {\n",
       "  text-align: center;\n",
       "}\n",
       "\n",
       "/* Estimator-specific */\n",
       "#sk-container-id-1 div.sk-estimator {\n",
       "  font-family: monospace;\n",
       "  border: 1px dotted var(--sklearn-color-border-box);\n",
       "  border-radius: 0.25em;\n",
       "  box-sizing: border-box;\n",
       "  margin-bottom: 0.5em;\n",
       "  /* unfitted */\n",
       "  background-color: var(--sklearn-color-unfitted-level-0);\n",
       "}\n",
       "\n",
       "#sk-container-id-1 div.sk-estimator.fitted {\n",
       "  /* fitted */\n",
       "  background-color: var(--sklearn-color-fitted-level-0);\n",
       "}\n",
       "\n",
       "/* on hover */\n",
       "#sk-container-id-1 div.sk-estimator:hover {\n",
       "  /* unfitted */\n",
       "  background-color: var(--sklearn-color-unfitted-level-2);\n",
       "}\n",
       "\n",
       "#sk-container-id-1 div.sk-estimator.fitted:hover {\n",
       "  /* fitted */\n",
       "  background-color: var(--sklearn-color-fitted-level-2);\n",
       "}\n",
       "\n",
       "/* Specification for estimator info (e.g. \"i\" and \"?\") */\n",
       "\n",
       "/* Common style for \"i\" and \"?\" */\n",
       "\n",
       ".sk-estimator-doc-link,\n",
       "a:link.sk-estimator-doc-link,\n",
       "a:visited.sk-estimator-doc-link {\n",
       "  float: right;\n",
       "  font-size: smaller;\n",
       "  line-height: 1em;\n",
       "  font-family: monospace;\n",
       "  background-color: var(--sklearn-color-background);\n",
       "  border-radius: 1em;\n",
       "  height: 1em;\n",
       "  width: 1em;\n",
       "  text-decoration: none !important;\n",
       "  margin-left: 1ex;\n",
       "  /* unfitted */\n",
       "  border: var(--sklearn-color-unfitted-level-1) 1pt solid;\n",
       "  color: var(--sklearn-color-unfitted-level-1);\n",
       "}\n",
       "\n",
       ".sk-estimator-doc-link.fitted,\n",
       "a:link.sk-estimator-doc-link.fitted,\n",
       "a:visited.sk-estimator-doc-link.fitted {\n",
       "  /* fitted */\n",
       "  border: var(--sklearn-color-fitted-level-1) 1pt solid;\n",
       "  color: var(--sklearn-color-fitted-level-1);\n",
       "}\n",
       "\n",
       "/* On hover */\n",
       "div.sk-estimator:hover .sk-estimator-doc-link:hover,\n",
       ".sk-estimator-doc-link:hover,\n",
       "div.sk-label-container:hover .sk-estimator-doc-link:hover,\n",
       ".sk-estimator-doc-link:hover {\n",
       "  /* unfitted */\n",
       "  background-color: var(--sklearn-color-unfitted-level-3);\n",
       "  color: var(--sklearn-color-background);\n",
       "  text-decoration: none;\n",
       "}\n",
       "\n",
       "div.sk-estimator.fitted:hover .sk-estimator-doc-link.fitted:hover,\n",
       ".sk-estimator-doc-link.fitted:hover,\n",
       "div.sk-label-container:hover .sk-estimator-doc-link.fitted:hover,\n",
       ".sk-estimator-doc-link.fitted:hover {\n",
       "  /* fitted */\n",
       "  background-color: var(--sklearn-color-fitted-level-3);\n",
       "  color: var(--sklearn-color-background);\n",
       "  text-decoration: none;\n",
       "}\n",
       "\n",
       "/* Span, style for the box shown on hovering the info icon */\n",
       ".sk-estimator-doc-link span {\n",
       "  display: none;\n",
       "  z-index: 9999;\n",
       "  position: relative;\n",
       "  font-weight: normal;\n",
       "  right: .2ex;\n",
       "  padding: .5ex;\n",
       "  margin: .5ex;\n",
       "  width: min-content;\n",
       "  min-width: 20ex;\n",
       "  max-width: 50ex;\n",
       "  color: var(--sklearn-color-text);\n",
       "  box-shadow: 2pt 2pt 4pt #999;\n",
       "  /* unfitted */\n",
       "  background: var(--sklearn-color-unfitted-level-0);\n",
       "  border: .5pt solid var(--sklearn-color-unfitted-level-3);\n",
       "}\n",
       "\n",
       ".sk-estimator-doc-link.fitted span {\n",
       "  /* fitted */\n",
       "  background: var(--sklearn-color-fitted-level-0);\n",
       "  border: var(--sklearn-color-fitted-level-3);\n",
       "}\n",
       "\n",
       ".sk-estimator-doc-link:hover span {\n",
       "  display: block;\n",
       "}\n",
       "\n",
       "/* \"?\"-specific style due to the `<a>` HTML tag */\n",
       "\n",
       "#sk-container-id-1 a.estimator_doc_link {\n",
       "  float: right;\n",
       "  font-size: 1rem;\n",
       "  line-height: 1em;\n",
       "  font-family: monospace;\n",
       "  background-color: var(--sklearn-color-background);\n",
       "  border-radius: 1rem;\n",
       "  height: 1rem;\n",
       "  width: 1rem;\n",
       "  text-decoration: none;\n",
       "  /* unfitted */\n",
       "  color: var(--sklearn-color-unfitted-level-1);\n",
       "  border: var(--sklearn-color-unfitted-level-1) 1pt solid;\n",
       "}\n",
       "\n",
       "#sk-container-id-1 a.estimator_doc_link.fitted {\n",
       "  /* fitted */\n",
       "  border: var(--sklearn-color-fitted-level-1) 1pt solid;\n",
       "  color: var(--sklearn-color-fitted-level-1);\n",
       "}\n",
       "\n",
       "/* On hover */\n",
       "#sk-container-id-1 a.estimator_doc_link:hover {\n",
       "  /* unfitted */\n",
       "  background-color: var(--sklearn-color-unfitted-level-3);\n",
       "  color: var(--sklearn-color-background);\n",
       "  text-decoration: none;\n",
       "}\n",
       "\n",
       "#sk-container-id-1 a.estimator_doc_link.fitted:hover {\n",
       "  /* fitted */\n",
       "  background-color: var(--sklearn-color-fitted-level-3);\n",
       "}\n",
       "</style><div id=\"sk-container-id-1\" class=\"sk-top-container\"><div class=\"sk-text-repr-fallback\"><pre>LogisticRegression()</pre><b>In a Jupyter environment, please rerun this cell to show the HTML representation or trust the notebook. <br />On GitHub, the HTML representation is unable to render, please try loading this page with nbviewer.org.</b></div><div class=\"sk-container\" hidden><div class=\"sk-item\"><div class=\"sk-estimator fitted sk-toggleable\"><input class=\"sk-toggleable__control sk-hidden--visually\" id=\"sk-estimator-id-1\" type=\"checkbox\" checked><label for=\"sk-estimator-id-1\" class=\"sk-toggleable__label fitted sk-toggleable__label-arrow fitted\">&nbsp;&nbsp;LogisticRegression<a class=\"sk-estimator-doc-link fitted\" rel=\"noreferrer\" target=\"_blank\" href=\"https://scikit-learn.org/1.5/modules/generated/sklearn.linear_model.LogisticRegression.html\">?<span>Documentation for LogisticRegression</span></a><span class=\"sk-estimator-doc-link fitted\">i<span>Fitted</span></span></label><div class=\"sk-toggleable__content fitted\"><pre>LogisticRegression()</pre></div> </div></div></div></div>"
      ],
      "text/plain": [
       "LogisticRegression()"
      ]
     },
     "execution_count": 25,
     "metadata": {},
     "output_type": "execute_result"
    }
   ],
   "source": [
    "lr.fit(X_train,y_train)"
   ]
  },
  {
   "cell_type": "code",
   "execution_count": 26,
   "id": "09d2caaf-02db-4bc6-83d4-ada717cae00c",
   "metadata": {},
   "outputs": [
    {
     "data": {
      "text/plain": [
       "83.66013071895425"
      ]
     },
     "execution_count": 26,
     "metadata": {},
     "output_type": "execute_result"
    }
   ],
   "source": [
    "lr.score(X_train,y_train)*100"
   ]
  },
  {
   "cell_type": "code",
   "execution_count": 27,
   "id": "04ab1424-035d-42bb-80a7-7341b342865d",
   "metadata": {},
   "outputs": [
    {
     "data": {
      "text/plain": [
       "84.61538461538461"
      ]
     },
     "execution_count": 27,
     "metadata": {},
     "output_type": "execute_result"
    }
   ],
   "source": [
    "lr.score(X_test,y_test)*100"
   ]
  },
  {
   "cell_type": "markdown",
   "id": "eb800fae-1976-4b3a-a56a-009cd7743785",
   "metadata": {},
   "source": [
    "## Making Predictions\n",
    "Use the trained model to predict outcomes on the test set.\n"
   ]
  },
  {
   "cell_type": "code",
   "execution_count": 28,
   "id": "eab9b00e-5e16-49d5-82ea-09d0f66a0c6b",
   "metadata": {},
   "outputs": [],
   "source": [
    "y_pred_final = lr.predict(X_test)\n",
    "\n",
    "y_proba = lr.predict_proba(X_test)[:, 1]"
   ]
  },
  {
   "cell_type": "code",
   "execution_count": 29,
   "id": "90e9652d-c9e4-4323-a685-84236ea9ac49",
   "metadata": {},
   "outputs": [
    {
     "data": {
      "text/plain": [
       "array([0, 0, 0, 1, 0, 0, 0, 0, 0, 0, 0, 0, 1, 1, 1, 0, 1, 0, 1, 0, 1, 1,\n",
       "       0, 0, 1, 0, 1, 1, 0, 1, 0, 0, 1, 0, 0, 1, 1, 0, 0], dtype=int64)"
      ]
     },
     "execution_count": 29,
     "metadata": {},
     "output_type": "execute_result"
    }
   ],
   "source": [
    "y_pred_final                 # 0 == No Heart Disease / 1== Heart Disease Present"
   ]
  },
  {
   "cell_type": "code",
   "execution_count": 30,
   "id": "7e947de1-82b7-4c25-85b7-aa45c98b926f",
   "metadata": {},
   "outputs": [
    {
     "name": "stdout",
     "output_type": "stream",
     "text": [
      "Prediction 1: No Heart Disease\n",
      "Prediction 2: No Heart Disease\n",
      "Prediction 3: No Heart Disease\n",
      "Prediction 4: Heart Disease Present\n",
      "Prediction 5: No Heart Disease\n",
      "Prediction 6: No Heart Disease\n",
      "Prediction 7: No Heart Disease\n",
      "Prediction 8: No Heart Disease\n",
      "Prediction 9: No Heart Disease\n",
      "Prediction 10: No Heart Disease\n"
     ]
    }
   ],
   "source": [
    "predicted_labels = [\"No Heart Disease\" if pred == 0 else \"Heart Disease Present\" for pred in y_pred_final]\n",
    "\n",
    "\n",
    "for i in range(10):\n",
    "    print(f\"Prediction {i+1}: {predicted_labels[i]}\")"
   ]
  },
  {
   "cell_type": "markdown",
   "id": "acd4cb3a-1a76-4be1-8c47-5b0c0e982f5f",
   "metadata": {},
   "source": [
    "## Comparison Actual VS Predicted and also mention Probability"
   ]
  },
  {
   "cell_type": "markdown",
   "id": "30eb08d5-0d8a-424b-a1bc-641b097e5fab",
   "metadata": {},
   "source": [
    "#### In Text Format"
   ]
  },
  {
   "cell_type": "code",
   "execution_count": 31,
   "id": "36d88088-3b85-439c-b05c-69789f0f3165",
   "metadata": {},
   "outputs": [
    {
     "data": {
      "text/html": [
       "<div>\n",
       "<style scoped>\n",
       "    .dataframe tbody tr th:only-of-type {\n",
       "        vertical-align: middle;\n",
       "    }\n",
       "\n",
       "    .dataframe tbody tr th {\n",
       "        vertical-align: top;\n",
       "    }\n",
       "\n",
       "    .dataframe thead th {\n",
       "        text-align: right;\n",
       "    }\n",
       "</style>\n",
       "<table border=\"1\" class=\"dataframe\">\n",
       "  <thead>\n",
       "    <tr style=\"text-align: right;\">\n",
       "      <th></th>\n",
       "      <th>Actual</th>\n",
       "      <th>Predicted</th>\n",
       "      <th>Probability</th>\n",
       "    </tr>\n",
       "  </thead>\n",
       "  <tbody>\n",
       "    <tr>\n",
       "      <th>0</th>\n",
       "      <td>No Heart Disease</td>\n",
       "      <td>Heart Disease Present</td>\n",
       "      <td>0.168053</td>\n",
       "    </tr>\n",
       "    <tr>\n",
       "      <th>1</th>\n",
       "      <td>No Heart Disease</td>\n",
       "      <td>No Heart Disease</td>\n",
       "      <td>0.041517</td>\n",
       "    </tr>\n",
       "    <tr>\n",
       "      <th>2</th>\n",
       "      <td>Heart Disease Present</td>\n",
       "      <td>Heart Disease Present</td>\n",
       "      <td>0.499703</td>\n",
       "    </tr>\n",
       "    <tr>\n",
       "      <th>3</th>\n",
       "      <td>No Heart Disease</td>\n",
       "      <td>Heart Disease Present</td>\n",
       "      <td>0.581694</td>\n",
       "    </tr>\n",
       "    <tr>\n",
       "      <th>4</th>\n",
       "      <td>No Heart Disease</td>\n",
       "      <td>No Heart Disease</td>\n",
       "      <td>0.003953</td>\n",
       "    </tr>\n",
       "  </tbody>\n",
       "</table>\n",
       "</div>"
      ],
      "text/plain": [
       "                  Actual              Predicted  Probability\n",
       "0       No Heart Disease  Heart Disease Present     0.168053\n",
       "1       No Heart Disease       No Heart Disease     0.041517\n",
       "2  Heart Disease Present  Heart Disease Present     0.499703\n",
       "3       No Heart Disease  Heart Disease Present     0.581694\n",
       "4       No Heart Disease       No Heart Disease     0.003953"
      ]
     },
     "execution_count": 31,
     "metadata": {},
     "output_type": "execute_result"
    }
   ],
   "source": [
    "threshold = 0.10\n",
    "\n",
    "y_pred_final = (y_proba >= threshold).astype(int)\n",
    "\n",
    "actual_labels = [\"No Heart Disease\" if val == 0 else \"Heart Disease Present\" for val in y_test]\n",
    "predicted_labels = [\"No Heart Disease\" if val == 0 else \"Heart Disease Present\" for val in y_pred_final]\n",
    "\n",
    "comparison = pd.DataFrame({\n",
    "    'Actual': actual_labels,\n",
    "    'Predicted': predicted_labels,\n",
    "    'Probability': y_proba\n",
    "})\n",
    "comparison.head()"
   ]
  },
  {
   "cell_type": "markdown",
   "id": "f99bb690-9794-49ad-9c2d-54ce12489289",
   "metadata": {},
   "source": [
    "#### In binary Format"
   ]
  },
  {
   "cell_type": "code",
   "execution_count": 32,
   "id": "376d7f65-73b5-45db-a6ba-95f8651688cb",
   "metadata": {},
   "outputs": [
    {
     "data": {
      "text/html": [
       "<div>\n",
       "<style scoped>\n",
       "    .dataframe tbody tr th:only-of-type {\n",
       "        vertical-align: middle;\n",
       "    }\n",
       "\n",
       "    .dataframe tbody tr th {\n",
       "        vertical-align: top;\n",
       "    }\n",
       "\n",
       "    .dataframe thead th {\n",
       "        text-align: right;\n",
       "    }\n",
       "</style>\n",
       "<table border=\"1\" class=\"dataframe\">\n",
       "  <thead>\n",
       "    <tr style=\"text-align: right;\">\n",
       "      <th></th>\n",
       "      <th>Actual</th>\n",
       "      <th>Predicted</th>\n",
       "      <th>Probability</th>\n",
       "    </tr>\n",
       "  </thead>\n",
       "  <tbody>\n",
       "    <tr>\n",
       "      <th>0</th>\n",
       "      <td>0</td>\n",
       "      <td>1</td>\n",
       "      <td>0.168053</td>\n",
       "    </tr>\n",
       "    <tr>\n",
       "      <th>1</th>\n",
       "      <td>0</td>\n",
       "      <td>0</td>\n",
       "      <td>0.041517</td>\n",
       "    </tr>\n",
       "    <tr>\n",
       "      <th>2</th>\n",
       "      <td>1</td>\n",
       "      <td>1</td>\n",
       "      <td>0.499703</td>\n",
       "    </tr>\n",
       "    <tr>\n",
       "      <th>3</th>\n",
       "      <td>0</td>\n",
       "      <td>1</td>\n",
       "      <td>0.581694</td>\n",
       "    </tr>\n",
       "    <tr>\n",
       "      <th>4</th>\n",
       "      <td>0</td>\n",
       "      <td>0</td>\n",
       "      <td>0.003953</td>\n",
       "    </tr>\n",
       "  </tbody>\n",
       "</table>\n",
       "</div>"
      ],
      "text/plain": [
       "   Actual  Predicted  Probability\n",
       "0       0          1     0.168053\n",
       "1       0          0     0.041517\n",
       "2       1          1     0.499703\n",
       "3       0          1     0.581694\n",
       "4       0          0     0.003953"
      ]
     },
     "execution_count": 32,
     "metadata": {},
     "output_type": "execute_result"
    }
   ],
   "source": [
    "actual_binary = [0 if val == \"No Heart Disease\" else 1 for val in actual_labels]\n",
    "predicted_binary = [0 if val == \"No Heart Disease\" else 1 for val in predicted_labels]\n",
    "\n",
    "binary_comparison = pd.DataFrame({\n",
    "    'Actual': actual_binary,\n",
    "    'Predicted': predicted_binary,\n",
    "    'Probability': y_proba\n",
    "})\n",
    "\n",
    "binary_comparison.head()"
   ]
  },
  {
   "cell_type": "markdown",
   "id": "24a322cf-fffd-42a2-876f-5fdfc5e596b4",
   "metadata": {},
   "source": [
    "## Checking False Negatives only"
   ]
  },
  {
   "cell_type": "code",
   "execution_count": 33,
   "id": "9bbe8676-de55-468e-99f4-ba3fbbd302cb",
   "metadata": {},
   "outputs": [
    {
     "data": {
      "text/html": [
       "<div>\n",
       "<style scoped>\n",
       "    .dataframe tbody tr th:only-of-type {\n",
       "        vertical-align: middle;\n",
       "    }\n",
       "\n",
       "    .dataframe tbody tr th {\n",
       "        vertical-align: top;\n",
       "    }\n",
       "\n",
       "    .dataframe thead th {\n",
       "        text-align: right;\n",
       "    }\n",
       "</style>\n",
       "<table border=\"1\" class=\"dataframe\">\n",
       "  <thead>\n",
       "    <tr style=\"text-align: right;\">\n",
       "      <th></th>\n",
       "      <th>Actual</th>\n",
       "      <th>Predicted</th>\n",
       "      <th>Probability</th>\n",
       "    </tr>\n",
       "  </thead>\n",
       "  <tbody>\n",
       "  </tbody>\n",
       "</table>\n",
       "</div>"
      ],
      "text/plain": [
       "Empty DataFrame\n",
       "Columns: [Actual, Predicted, Probability]\n",
       "Index: []"
      ]
     },
     "execution_count": 33,
     "metadata": {},
     "output_type": "execute_result"
    }
   ],
   "source": [
    "comparison[(comparison['Actual'] == 'Heart Disease Present') & (comparison['Predicted'] == 'No Heart Disease')]"
   ]
  },
  {
   "cell_type": "markdown",
   "id": "480074c7-64f4-42d4-8b59-7bfbc2c7b1a0",
   "metadata": {},
   "source": [
    "## Comparison Between Actual And Prediction"
   ]
  },
  {
   "cell_type": "code",
   "execution_count": 34,
   "id": "dd127383-6fdd-44e6-9f40-213dcf46a628",
   "metadata": {},
   "outputs": [
    {
     "data": {
      "image/png": "[encoded data removed]",
      "text/plain": [
       "<Figure size 600x400 with 1 Axes>"
      ]
     },
     "metadata": {},
     "output_type": "display_data"
    }
   ],
   "source": [
    "comparison = pd.DataFrame({'Actual': y_test, 'Predicted': y_pred_final})\n",
    "comparison = comparison.reset_index(drop=True)\n",
    "comparison.head(10).plot(kind='bar', figsize=(6,4))\n",
    "plt.title('Actual vs Predicted (First 10)')\n",
    "plt.ylabel('Target')\n",
    "plt.xticks(rotation=0)\n",
    "plt.grid(True)\n",
    "plt.show()"
   ]
  },
  {
   "cell_type": "markdown",
   "id": "b85eaf80-5496-45aa-a044-e7fcef75b26b",
   "metadata": {},
   "source": [
    "## Visual Evaluation - Confusion Matrix & ROC Curve\n",
    "These plots help us understand model performance on classification.\n"
   ]
  },
  {
   "cell_type": "code",
   "execution_count": 35,
   "id": "0b1cd5ef-ad8c-4442-9ddb-b39606586677",
   "metadata": {},
   "outputs": [
    {
     "name": "stdout",
     "output_type": "stream",
     "text": [
      "Accuracy: 0.6923076923076923\n",
      "Precision: 0.52\n",
      "Recall: 1.0\n",
      "F1 Score: 0.6842105263157895\n",
      "ROC-AUC Score: 0.9408284023668638\n",
      "\n",
      "Classification Report:\n",
      "               precision    recall  f1-score   support\n",
      "\n",
      "           0       1.00      0.54      0.70        26\n",
      "           1       0.52      1.00      0.68        13\n",
      "\n",
      "    accuracy                           0.69        39\n",
      "   macro avg       0.76      0.77      0.69        39\n",
      "weighted avg       0.84      0.69      0.69        39\n",
      "\n"
     ]
    }
   ],
   "source": [
    "from sklearn.metrics import accuracy_score, precision_score, recall_score, f1_score, roc_auc_score, confusion_matrix, classification_report\n",
    "\n",
    "print(\"Accuracy:\", accuracy_score(y_test, y_pred_final))\n",
    "print(\"Precision:\", precision_score(y_test, y_pred_final))\n",
    "print(\"Recall:\", recall_score(y_test, y_pred_final))\n",
    "print(\"F1 Score:\", f1_score(y_test, y_pred_final))\n",
    "print(\"ROC-AUC Score:\", roc_auc_score(y_test, y_proba))\n",
    "print(\"\\nClassification Report:\\n\", classification_report(y_test, y_pred_final))"
   ]
  },
  {
   "cell_type": "markdown",
   "id": "68bb6656-1234-4df6-8d4a-39e1c84d6f43",
   "metadata": {},
   "source": [
    "## Confusion Matrix"
   ]
  },
  {
   "cell_type": "code",
   "execution_count": 36,
   "id": "42160285-1923-40fe-afb1-a6cd5f8a3920",
   "metadata": {},
   "outputs": [
    {
     "name": "stdout",
     "output_type": "stream",
     "text": [
      "[[14 12]\n",
      " [ 0 13]]\n"
     ]
    }
   ],
   "source": [
    "from sklearn.metrics import confusion_matrix\n",
    "print(confusion_matrix(y_test, y_pred_final))"
   ]
  },
  {
   "cell_type": "code",
   "execution_count": 37,
   "id": "8ac882c6-8fcb-4826-ac26-29f9af2d79b1",
   "metadata": {},
   "outputs": [
    {
     "data": {
      "image/png": "[encoded data removed]",
      "text/plain": [
       "<Figure size 500x400 with 2 Axes>"
      ]
     },
     "metadata": {},
     "output_type": "display_data"
    }
   ],
   "source": [
    "cm = confusion_matrix(y_test, y_pred_final)\n",
    "plt.figure(figsize=(5,4))\n",
    "sns.heatmap(cm, annot=True, fmt='d', cmap='Blues')\n",
    "plt.title('Confusion Matrix')\n",
    "plt.xlabel('Predicted')\n",
    "plt.ylabel('Actual')\n",
    "plt.show()"
   ]
  },
  {
   "cell_type": "markdown",
   "id": "11464488-fd01-4c19-9030-2ff8a26c3a85",
   "metadata": {},
   "source": [
    "## Searching the best thershold"
   ]
  },
  {
   "cell_type": "code",
   "execution_count": 38,
   "id": "6724d10d-880b-42fd-a1d0-b5afe33f2ad8",
   "metadata": {},
   "outputs": [
    {
     "name": "stdout",
     "output_type": "stream",
     "text": [
      "Threshold: 0.10\n",
      "Confusion Matrix:\n",
      "[[14 12]\n",
      " [ 0 13]]\n",
      "Precision: 0.52\n",
      "Recall: 1.0\n",
      "F1 Score: 0.6842105263157895\n",
      "------------------------------\n",
      "Threshold: 0.11\n",
      "Confusion Matrix:\n",
      "[[14 12]\n",
      " [ 1 12]]\n",
      "Precision: 0.5\n",
      "Recall: 0.9230769230769231\n",
      "F1 Score: 0.6486486486486487\n",
      "------------------------------\n",
      "Threshold: 0.12\n",
      "Confusion Matrix:\n",
      "[[15 11]\n",
      " [ 1 12]]\n",
      "Precision: 0.5217391304347826\n",
      "Recall: 0.9230769230769231\n",
      "F1 Score: 0.6666666666666666\n",
      "------------------------------\n",
      "Threshold: 0.13\n",
      "Confusion Matrix:\n",
      "[[16 10]\n",
      " [ 1 12]]\n",
      "Precision: 0.5454545454545454\n",
      "Recall: 0.9230769230769231\n",
      "F1 Score: 0.6857142857142857\n",
      "------------------------------\n",
      "Threshold: 0.14\n",
      "Confusion Matrix:\n",
      "[[16 10]\n",
      " [ 1 12]]\n",
      "Precision: 0.5454545454545454\n",
      "Recall: 0.9230769230769231\n",
      "F1 Score: 0.6857142857142857\n",
      "------------------------------\n",
      "Threshold: 0.15\n",
      "Confusion Matrix:\n",
      "[[17  9]\n",
      " [ 1 12]]\n",
      "Precision: 0.5714285714285714\n",
      "Recall: 0.9230769230769231\n",
      "F1 Score: 0.7058823529411765\n",
      "------------------------------\n",
      "Threshold: 0.16\n",
      "Confusion Matrix:\n",
      "[[17  9]\n",
      " [ 1 12]]\n",
      "Precision: 0.5714285714285714\n",
      "Recall: 0.9230769230769231\n",
      "F1 Score: 0.7058823529411765\n",
      "------------------------------\n",
      "Threshold: 0.17\n",
      "Confusion Matrix:\n",
      "[[18  8]\n",
      " [ 1 12]]\n",
      "Precision: 0.6\n",
      "Recall: 0.9230769230769231\n",
      "F1 Score: 0.7272727272727273\n",
      "------------------------------\n",
      "Threshold: 0.18\n",
      "Confusion Matrix:\n",
      "[[18  8]\n",
      " [ 1 12]]\n",
      "Precision: 0.6\n",
      "Recall: 0.9230769230769231\n",
      "F1 Score: 0.7272727272727273\n",
      "------------------------------\n",
      "Threshold: 0.19\n",
      "Confusion Matrix:\n",
      "[[18  8]\n",
      " [ 1 12]]\n",
      "Precision: 0.6\n",
      "Recall: 0.9230769230769231\n",
      "F1 Score: 0.7272727272727273\n",
      "------------------------------\n",
      "Threshold: 0.20\n",
      "Confusion Matrix:\n",
      "[[18  8]\n",
      " [ 1 12]]\n",
      "Precision: 0.6\n",
      "Recall: 0.9230769230769231\n",
      "F1 Score: 0.7272727272727273\n",
      "------------------------------\n",
      "Threshold: 0.21\n",
      "Confusion Matrix:\n",
      "[[18  8]\n",
      " [ 1 12]]\n",
      "Precision: 0.6\n",
      "Recall: 0.9230769230769231\n",
      "F1 Score: 0.7272727272727273\n",
      "------------------------------\n",
      "Threshold: 0.22\n",
      "Confusion Matrix:\n",
      "[[19  7]\n",
      " [ 1 12]]\n",
      "Precision: 0.631578947368421\n",
      "Recall: 0.9230769230769231\n",
      "F1 Score: 0.75\n",
      "------------------------------\n",
      "Threshold: 0.23\n",
      "Confusion Matrix:\n",
      "[[19  7]\n",
      " [ 1 12]]\n",
      "Precision: 0.631578947368421\n",
      "Recall: 0.9230769230769231\n",
      "F1 Score: 0.75\n",
      "------------------------------\n",
      "Threshold: 0.24\n",
      "Confusion Matrix:\n",
      "[[19  7]\n",
      " [ 1 12]]\n",
      "Precision: 0.631578947368421\n",
      "Recall: 0.9230769230769231\n",
      "F1 Score: 0.75\n",
      "------------------------------\n",
      "Threshold: 0.25\n",
      "Confusion Matrix:\n",
      "[[19  7]\n",
      " [ 1 12]]\n",
      "Precision: 0.631578947368421\n",
      "Recall: 0.9230769230769231\n",
      "F1 Score: 0.75\n",
      "------------------------------\n",
      "Threshold: 0.26\n",
      "Confusion Matrix:\n",
      "[[19  7]\n",
      " [ 1 12]]\n",
      "Precision: 0.631578947368421\n",
      "Recall: 0.9230769230769231\n",
      "F1 Score: 0.75\n",
      "------------------------------\n",
      "Threshold: 0.27\n",
      "Confusion Matrix:\n",
      "[[19  7]\n",
      " [ 1 12]]\n",
      "Precision: 0.631578947368421\n",
      "Recall: 0.9230769230769231\n",
      "F1 Score: 0.75\n",
      "------------------------------\n",
      "Threshold: 0.28\n",
      "Confusion Matrix:\n",
      "[[19  7]\n",
      " [ 1 12]]\n",
      "Precision: 0.631578947368421\n",
      "Recall: 0.9230769230769231\n",
      "F1 Score: 0.75\n",
      "------------------------------\n",
      "Threshold: 0.29\n",
      "Confusion Matrix:\n",
      "[[19  7]\n",
      " [ 1 12]]\n",
      "Precision: 0.631578947368421\n",
      "Recall: 0.9230769230769231\n",
      "F1 Score: 0.75\n",
      "------------------------------\n",
      "Threshold: 0.30\n",
      "Confusion Matrix:\n",
      "[[19  7]\n",
      " [ 1 12]]\n",
      "Precision: 0.631578947368421\n",
      "Recall: 0.9230769230769231\n",
      "F1 Score: 0.75\n",
      "------------------------------\n",
      "Threshold: 0.31\n",
      "Confusion Matrix:\n",
      "[[19  7]\n",
      " [ 1 12]]\n",
      "Precision: 0.631578947368421\n",
      "Recall: 0.9230769230769231\n",
      "F1 Score: 0.75\n",
      "------------------------------\n",
      "Threshold: 0.32\n",
      "Confusion Matrix:\n",
      "[[19  7]\n",
      " [ 1 12]]\n",
      "Precision: 0.631578947368421\n",
      "Recall: 0.9230769230769231\n",
      "F1 Score: 0.75\n",
      "------------------------------\n",
      "Threshold: 0.33\n",
      "Confusion Matrix:\n",
      "[[19  7]\n",
      " [ 1 12]]\n",
      "Precision: 0.631578947368421\n",
      "Recall: 0.9230769230769231\n",
      "F1 Score: 0.75\n",
      "------------------------------\n",
      "Threshold: 0.34\n",
      "Confusion Matrix:\n",
      "[[19  7]\n",
      " [ 1 12]]\n",
      "Precision: 0.631578947368421\n",
      "Recall: 0.9230769230769231\n",
      "F1 Score: 0.75\n",
      "------------------------------\n",
      "Threshold: 0.35\n",
      "Confusion Matrix:\n",
      "[[19  7]\n",
      " [ 1 12]]\n",
      "Precision: 0.631578947368421\n",
      "Recall: 0.9230769230769231\n",
      "F1 Score: 0.75\n",
      "------------------------------\n",
      "Threshold: 0.36\n",
      "Confusion Matrix:\n",
      "[[19  7]\n",
      " [ 1 12]]\n",
      "Precision: 0.631578947368421\n",
      "Recall: 0.9230769230769231\n",
      "F1 Score: 0.75\n",
      "------------------------------\n",
      "Threshold: 0.37\n",
      "Confusion Matrix:\n",
      "[[19  7]\n",
      " [ 1 12]]\n",
      "Precision: 0.631578947368421\n",
      "Recall: 0.9230769230769231\n",
      "F1 Score: 0.75\n",
      "------------------------------\n",
      "Threshold: 0.38\n",
      "Confusion Matrix:\n",
      "[[20  6]\n",
      " [ 1 12]]\n",
      "Precision: 0.6666666666666666\n",
      "Recall: 0.9230769230769231\n",
      "F1 Score: 0.7741935483870968\n",
      "------------------------------\n",
      "Threshold: 0.39\n",
      "Confusion Matrix:\n",
      "[[21  5]\n",
      " [ 1 12]]\n",
      "Precision: 0.7058823529411765\n",
      "Recall: 0.9230769230769231\n",
      "F1 Score: 0.8\n",
      "------------------------------\n",
      "Threshold: 0.40\n",
      "Confusion Matrix:\n",
      "[[21  5]\n",
      " [ 1 12]]\n",
      "Precision: 0.7058823529411765\n",
      "Recall: 0.9230769230769231\n",
      "F1 Score: 0.8\n",
      "------------------------------\n",
      "Threshold: 0.41\n",
      "Confusion Matrix:\n",
      "[[21  5]\n",
      " [ 1 12]]\n",
      "Precision: 0.7058823529411765\n",
      "Recall: 0.9230769230769231\n",
      "F1 Score: 0.8\n",
      "------------------------------\n",
      "Threshold: 0.42\n",
      "Confusion Matrix:\n",
      "[[21  5]\n",
      " [ 1 12]]\n",
      "Precision: 0.7058823529411765\n",
      "Recall: 0.9230769230769231\n",
      "F1 Score: 0.8\n",
      "------------------------------\n",
      "Threshold: 0.43\n",
      "Confusion Matrix:\n",
      "[[21  5]\n",
      " [ 1 12]]\n",
      "Precision: 0.7058823529411765\n",
      "Recall: 0.9230769230769231\n",
      "F1 Score: 0.8\n",
      "------------------------------\n",
      "Threshold: 0.44\n",
      "Confusion Matrix:\n",
      "[[21  5]\n",
      " [ 1 12]]\n",
      "Precision: 0.7058823529411765\n",
      "Recall: 0.9230769230769231\n",
      "F1 Score: 0.8\n",
      "------------------------------\n",
      "Threshold: 0.45\n",
      "Confusion Matrix:\n",
      "[[21  5]\n",
      " [ 1 12]]\n",
      "Precision: 0.7058823529411765\n",
      "Recall: 0.9230769230769231\n",
      "F1 Score: 0.8\n",
      "------------------------------\n",
      "Threshold: 0.46\n",
      "Confusion Matrix:\n",
      "[[21  5]\n",
      " [ 1 12]]\n",
      "Precision: 0.7058823529411765\n",
      "Recall: 0.9230769230769231\n",
      "F1 Score: 0.8\n",
      "------------------------------\n",
      "Threshold: 0.47\n",
      "Confusion Matrix:\n",
      "[[21  5]\n",
      " [ 1 12]]\n",
      "Precision: 0.7058823529411765\n",
      "Recall: 0.9230769230769231\n",
      "F1 Score: 0.8\n",
      "------------------------------\n",
      "Threshold: 0.48\n",
      "Confusion Matrix:\n",
      "[[21  5]\n",
      " [ 1 12]]\n",
      "Precision: 0.7058823529411765\n",
      "Recall: 0.9230769230769231\n",
      "F1 Score: 0.8\n",
      "------------------------------\n",
      "Threshold: 0.49\n",
      "Confusion Matrix:\n",
      "[[22  4]\n",
      " [ 1 12]]\n",
      "Precision: 0.75\n",
      "Recall: 0.9230769230769231\n",
      "F1 Score: 0.8275862068965517\n",
      "------------------------------\n"
     ]
    }
   ],
   "source": [
    "for t in np.arange(0.1, 0.5, 0.01):\n",
    "    y_pred_t = (y_proba >= t).astype(int)\n",
    "    print(f\"Threshold: {t:.2f}\")\n",
    "    print(\"Confusion Matrix:\")\n",
    "    print(confusion_matrix(y_test, y_pred_t))\n",
    "    print(\"Precision:\", precision_score(y_test, y_pred_t))\n",
    "    print(\"Recall:\", recall_score(y_test, y_pred_t))\n",
    "    print(\"F1 Score:\", f1_score(y_test, y_pred_t))\n",
    "    print(\"-\" * 30)"
   ]
  },
  {
   "cell_type": "code",
   "execution_count": 39,
   "id": "6418ce7f-dc70-4e64-b504-756b2c5c5106",
   "metadata": {},
   "outputs": [
    {
     "data": {
      "image/png": "[encoded data removed]",
      "text/plain": [
       "<Figure size 640x480 with 1 Axes>"
      ]
     },
     "metadata": {},
     "output_type": "display_data"
    }
   ],
   "source": [
    "from sklearn.metrics import precision_recall_curve\n",
    "\n",
    "precision, recall, thresholds = precision_recall_curve(y_test, y_proba)\n",
    "plt.plot(thresholds, precision[:-1], label='Precision')\n",
    "plt.plot(thresholds, recall[:-1], label='Recall')\n",
    "plt.xlabel(\"Threshold\")\n",
    "plt.legend()\n",
    "plt.grid()\n",
    "plt.title(\"Precision vs Recall vs Threshold\")\n",
    "plt.show()"
   ]
  },
  {
   "cell_type": "markdown",
   "id": "2dda1807-cec9-4a80-aa67-e3f277ab94e2",
   "metadata": {},
   "source": [
    "## ROC Curve"
   ]
  },
  {
   "cell_type": "code",
   "execution_count": 40,
   "id": "2f81963d-7255-4655-9417-492dc7e2f817",
   "metadata": {},
   "outputs": [
    {
     "data": {
      "image/png": "[encoded data removed]",
      "text/plain": [
       "<Figure size 500x400 with 1 Axes>"
      ]
     },
     "metadata": {},
     "output_type": "display_data"
    }
   ],
   "source": [
    "from sklearn.metrics import roc_curve, roc_auc_score\n",
    "\n",
    "fpr, tpr, _ = roc_curve(y_test, y_proba)\n",
    "plt.figure(figsize=(5, 4))\n",
    "plt.plot(fpr, tpr, label=f\"ROC Curve (AUC = {roc_auc_score(y_test, y_proba):.2f})\")\n",
    "plt.plot([0, 1], [0, 1], 'k--')\n",
    "plt.xlabel(\"False Positive Rate\")\n",
    "plt.ylabel(\"True Positive Rate\")\n",
    "plt.title(\"ROC Curve - Logistic Regression\")\n",
    "plt.legend()\n",
    "plt.show()\n"
   ]
  },
  {
   "cell_type": "code",
   "execution_count": 41,
   "id": "bf880781-d63c-4e9c-9aaa-5f3f23189c67",
   "metadata": {},
   "outputs": [
    {
     "name": "stdout",
     "output_type": "stream",
     "text": [
      "Accuracy: 0.8461538461538461\n",
      "Precision: 0.7333333333333333\n",
      "Recall: 0.8461538461538461\n",
      "F1 Score: 0.7857142857142857\n",
      "ROC-AUC: 0.9408284023668638\n"
     ]
    }
   ],
   "source": [
    "lr = LogisticRegression()\n",
    "lr.fit(X_train, y_train)\n",
    "y_pred = lr.predict(X_test)\n",
    "y_proba = lr.predict_proba(X_test)[:, 1]\n",
    "\n",
    "print(\"Accuracy:\", accuracy_score(y_test, y_pred))\n",
    "print(\"Precision:\", precision_score(y_test, y_pred))\n",
    "print(\"Recall:\", recall_score(y_test, y_pred))\n",
    "print(\"F1 Score:\", f1_score(y_test, y_pred))\n",
    "print(\"ROC-AUC:\", roc_auc_score(y_test, y_proba))\n"
   ]
  },
  {
   "cell_type": "code",
   "execution_count": 42,
   "id": "43a67964-e442-457d-8da3-41632cdf9e1a",
   "metadata": {},
   "outputs": [
    {
     "data": {
      "text/plain": [
       "['heart_disease_model.pkl']"
      ]
     },
     "execution_count": 42,
     "metadata": {},
     "output_type": "execute_result"
    }
   ],
   "source": [
    "import joblib\n",
    "\n",
    "joblib.dump(lr, 'heart_disease_model.pkl')"
   ]
  },
  {
   "cell_type": "code",
   "execution_count": 44,
   "id": "8819ade1-8669-427c-ad44-5e2ca1d299a3",
   "metadata": {},
   "outputs": [],
   "source": [
    "import pickle\n",
    "\n",
    "pickle.dump(lr, open(\"heart_disease_model.pkl\", \"wb\"))\n"
   ]
  },
  {
   "cell_type": "code",
   "execution_count": 46,
   "id": "305e6c92-c6a0-469a-a8fb-c2f95d1831c8",
   "metadata": {},
   "outputs": [],
   "source": [
    "import pickle\n",
    "model = pickle.load(open(\"heart_disease_model.pkl\", \"rb\"))\n"
   ]
  },
  {
   "cell_type": "markdown",
   "id": "1a1378e1-3c06-4246-b587-ca78d4f9bf53",
   "metadata": {},
   "source": [
    "## Conclusion\n",
    "The logistic regression model achieved an accuracy of 85%, indicating a strong ability to detect heart disease based on input features. Further improvement can be done using more advanced models like RandomForest or XGBoost.\n"
   ]
  }
 ],
 "metadata": {
  "kernelspec": {
   "display_name": "Python 3 (ipykernel)",
   "language": "python",
   "name": "python3"
  },
  "language_info": {
   "codemirror_mode": {
    "name": "ipython",
    "version": 3
   },
   "file_extension": ".py",
   "mimetype": "text/x-python",
   "name": "python",
   "nbconvert_exporter": "python",
   "pygments_lexer": "ipython3",
   "version": "3.12.7"
  }
 },
 "nbformat": 4,
 "nbformat_minor": 5
}
